{
 "cells": [
  {
   "cell_type": "code",
   "execution_count": 2,
   "metadata": {
    "_cell_guid": "b1076dfc-b9ad-4769-8c92-a6c4dae69d19",
    "_uuid": "8f2839f25d086af736a60e9eeb907d3b93b6e0e5",
    "execution": {
     "iopub.execute_input": "2023-11-22T20:49:41.928074Z",
     "iopub.status.busy": "2023-11-22T20:49:41.927111Z",
     "iopub.status.idle": "2023-11-22T20:49:41.941073Z",
     "shell.execute_reply": "2023-11-22T20:49:41.940175Z",
     "shell.execute_reply.started": "2023-11-22T20:49:41.928040Z"
    }
   },
   "outputs": [
    {
     "name": "stdout",
     "output_type": "stream",
     "text": [
      "2.13.0\n"
     ]
    },
    {
     "data": {
      "text/plain": [
       "'/device:GPU:0'"
      ]
     },
     "execution_count": 2,
     "metadata": {},
     "output_type": "execute_result"
    }
   ],
   "source": [
    "import os\n",
    "import zipfile\n",
    "import random\n",
    "from tqdm import tqdm\n",
    "import shutil\n",
    "import tensorflow as tf\n",
    "from tensorflow.keras.optimizers import RMSprop\n",
    "from tensorflow.keras.preprocessing.image import ImageDataGenerator\n",
    "from shutil import copyfile\n",
    "from os import getcwd\n",
    "import cv2\n",
    "#import keras\n",
    "print(tf.version.VERSION)\n",
    "physical_devices = tf.config.experimental.list_physical_devices('GPU')\n",
    "if len(physical_devices) > 0:\n",
    "    tf.config.experimental.set_memory_growth(physical_devices[0], True)\n",
    "tf.test.gpu_device_name()"
   ]
  },
  {
   "cell_type": "markdown",
   "metadata": {},
   "source": [
    "binary_classification"
   ]
  },
  {
   "cell_type": "code",
   "execution_count": 19,
   "metadata": {
    "execution": {
     "iopub.execute_input": "2023-11-22T21:35:13.953343Z",
     "iopub.status.busy": "2023-11-22T21:35:13.952978Z",
     "iopub.status.idle": "2023-11-22T21:35:28.649158Z",
     "shell.execute_reply": "2023-11-22T21:35:28.648388Z",
     "shell.execute_reply.started": "2023-11-22T21:35:13.953317Z"
    }
   },
   "outputs": [
    {
     "name": "stdout",
     "output_type": "stream",
     "text": [
      "Found 35126 files belonging to 2 classes.\n",
      "Using 28101 files for training.\n",
      "Found 35126 files belonging to 2 classes.\n",
      "Using 7025 files for validation.\n"
     ]
    }
   ],
   "source": [
    "TRAINING_DIR =\"/kaggle/input/binary-multi-retinopathy/data/binary\"\n",
    "\n",
    "train_dataset = tf.keras.utils.image_dataset_from_directory(TRAINING_DIR, validation_split=0.2, \n",
    "                                                            subset=\"training\", seed=42, \n",
    "                                                            image_size=(340,510),\n",
    "                                                            label_mode='binary',\n",
    "                                                             batch_size=128)\n",
    "val_dataset = tf.keras.utils.image_dataset_from_directory(TRAINING_DIR, validation_split=0.2, \n",
    "                                                          subset=\"validation\", seed=42, \n",
    "                                                          image_size=(340,510),\n",
    "                                                          label_mode='binary',\n",
    "                                                           batch_size=64)"
   ]
  },
  {
   "cell_type": "code",
   "execution_count": 20,
   "metadata": {
    "execution": {
     "iopub.execute_input": "2023-11-22T21:35:36.353917Z",
     "iopub.status.busy": "2023-11-22T21:35:36.353558Z",
     "iopub.status.idle": "2023-11-22T21:35:36.519416Z",
     "shell.execute_reply": "2023-11-22T21:35:36.518386Z",
     "shell.execute_reply.started": "2023-11-22T21:35:36.353894Z"
    }
   },
   "outputs": [
    {
     "name": "stdout",
     "output_type": "stream",
     "text": [
      "Model: \"sequential_9\"\n",
      "_________________________________________________________________\n",
      " Layer (type)                Output Shape              Param #   \n",
      "=================================================================\n",
      " conv2d_54 (Conv2D)          (None, 338, 508, 8)       224       \n",
      "                                                                 \n",
      " max_pooling2d_54 (MaxPooli  (None, 169, 254, 8)       0         \n",
      " ng2D)                                                           \n",
      "                                                                 \n",
      " conv2d_55 (Conv2D)          (None, 167, 252, 8)       584       \n",
      "                                                                 \n",
      " max_pooling2d_55 (MaxPooli  (None, 83, 126, 8)        0         \n",
      " ng2D)                                                           \n",
      "                                                                 \n",
      " conv2d_56 (Conv2D)          (None, 81, 124, 16)       1168      \n",
      "                                                                 \n",
      " max_pooling2d_56 (MaxPooli  (None, 40, 62, 16)        0         \n",
      " ng2D)                                                           \n",
      "                                                                 \n",
      " conv2d_57 (Conv2D)          (None, 38, 60, 16)        2320      \n",
      "                                                                 \n",
      " max_pooling2d_57 (MaxPooli  (None, 19, 30, 16)        0         \n",
      " ng2D)                                                           \n",
      "                                                                 \n",
      " conv2d_58 (Conv2D)          (None, 17, 28, 64)        9280      \n",
      "                                                                 \n",
      " max_pooling2d_58 (MaxPooli  (None, 8, 14, 64)         0         \n",
      " ng2D)                                                           \n",
      "                                                                 \n",
      " conv2d_59 (Conv2D)          (None, 6, 12, 128)        73856     \n",
      "                                                                 \n",
      " max_pooling2d_59 (MaxPooli  (None, 3, 6, 128)         0         \n",
      " ng2D)                                                           \n",
      "                                                                 \n",
      " flatten_9 (Flatten)         (None, 2304)              0         \n",
      "                                                                 \n",
      " dense_18 (Dense)            (None, 512)               1180160   \n",
      "                                                                 \n",
      " dense_19 (Dense)            (None, 1)                 513       \n",
      "                                                                 \n",
      "=================================================================\n",
      "Total params: 1268105 (4.84 MB)\n",
      "Trainable params: 1268105 (4.84 MB)\n",
      "Non-trainable params: 0 (0.00 Byte)\n",
      "_________________________________________________________________\n"
     ]
    }
   ],
   "source": [
    "# from tensorflow.keras.applications.densenet import DenseNet169\n",
    "model = tf.keras.models.Sequential([\n",
    "     tf.keras.layers.Input(shape=(340,510, 3)),\n",
    "# #     tf.keras.layers.experimental.preprocessing.RandomFlip('horizontal'),\n",
    "#     tf.keras.layers.experimental.preprocessing.RandomRotation(0.1),\n",
    "#     tf.keras.layers.experimental.preprocessing.RandomHeight(0.1),\n",
    "#     tf.keras.layers.experimental.preprocessing.RandomWidth(0.1),\n",
    "#     tf.keras.layers.experimental.preprocessing.Resizing(512,512),\n",
    "    tf.keras.layers.Conv2D(8, (3, 3), activation='relu'),\n",
    "#     tf.keras.layers.BatchNormalization(),\n",
    "#     tf.keras.applications.resnet.ResNet50(include_top=False,input_shape=(300,300,3),weights='imagenet'),\n",
    "    \n",
    "    \n",
    "    \n",
    "    tf.keras.layers.MaxPooling2D(2, 2),\n",
    "    tf.keras.layers.Conv2D(8, (3, 3), activation='relu'),\n",
    "    tf.keras.layers.MaxPooling2D(2, 2),\n",
    "    tf.keras.layers.Conv2D(16, (3, 3), activation='relu'),\n",
    "    tf.keras.layers.MaxPooling2D(2, 2),\n",
    "    tf.keras.layers.Conv2D(16, (3, 3), activation='relu'),\n",
    "    tf.keras.layers.MaxPooling2D(2, 2),\n",
    "    tf.keras.layers.Conv2D(64, (3, 3), activation='relu'),\n",
    "    tf.keras.layers.MaxPooling2D(2, 2),\n",
    "    tf.keras.layers.Conv2D(128, (3, 3), activation='relu'),\n",
    "    tf.keras.layers.MaxPooling2D(2, 2),\n",
    "#     tf.keras.layers.Conv2D(32, (3, 3), activation='relu'),\n",
    "#     tf.keras.layers.Conv2D(32, (3, 3), activation='relu'),\n",
    "#     tf.keras.layers.MaxPooling2D(2, 2),\n",
    "    tf.keras.layers.Flatten(),\n",
    "    tf.keras.layers.Dense(512, activation='relu'),\n",
    "#     tf.keras.layers.Dropout(0.5),\n",
    "#     tf.keras.layers.Dense(32, activation='relu'),\n",
    "    tf.keras.layers.Dense(1, activation='sigmoid')\n",
    "\n",
    "])\n",
    "\n",
    "#RMSprop(lr=0.0005)\n",
    "model.compile(optimizer='adam', loss='binary_crossentropy', metrics=['acc'])\n",
    "model.summary()"
   ]
  },
  {
   "cell_type": "code",
   "execution_count": 21,
   "metadata": {
    "execution": {
     "iopub.execute_input": "2023-11-22T21:35:37.136813Z",
     "iopub.status.busy": "2023-11-22T21:35:37.136481Z",
     "iopub.status.idle": "2023-11-22T22:04:04.828858Z",
     "shell.execute_reply": "2023-11-22T22:04:04.828003Z",
     "shell.execute_reply.started": "2023-11-22T21:35:37.136788Z"
    }
   },
   "outputs": [
    {
     "name": "stdout",
     "output_type": "stream",
     "text": [
      "Epoch 1/20\n",
      "220/220 [==============================] - 92s 382ms/step - loss: 1.1458 - acc: 0.7257 - val_loss: 125.6819 - val_acc: 0.7349\n",
      "Epoch 2/20\n",
      "220/220 [==============================] - 84s 375ms/step - loss: 5.3901 - acc: 0.7297 - val_loss: 1278.6918 - val_acc: 0.7349\n",
      "Epoch 3/20\n",
      "220/220 [==============================] - 85s 376ms/step - loss: 0.7721 - acc: 0.7288 - val_loss: 691.9646 - val_acc: 0.7349\n",
      "Epoch 4/20\n",
      "220/220 [==============================] - 85s 378ms/step - loss: 522.7771 - acc: 0.7310 - val_loss: 50720.1211 - val_acc: 0.7349\n",
      "Epoch 5/20\n",
      "220/220 [==============================] - 84s 375ms/step - loss: 142.3450 - acc: 0.7232 - val_loss: 17279.4102 - val_acc: 0.7349\n",
      "Epoch 6/20\n",
      "220/220 [==============================] - 84s 373ms/step - loss: 69.7424 - acc: 0.6819 - val_loss: 30708.7598 - val_acc: 0.7349\n",
      "Epoch 7/20\n",
      "220/220 [==============================] - 84s 373ms/step - loss: 29.2983 - acc: 0.6813 - val_loss: 3420.9822 - val_acc: 0.2651\n",
      "Epoch 8/20\n",
      "220/220 [==============================] - 85s 380ms/step - loss: 37.6860 - acc: 0.6994 - val_loss: 11315.5088 - val_acc: 0.7349\n",
      "Epoch 9/20\n",
      "220/220 [==============================] - 84s 374ms/step - loss: 74.3903 - acc: 0.7058 - val_loss: 18397.1543 - val_acc: 0.2651\n",
      "Epoch 10/20\n",
      "220/220 [==============================] - 84s 374ms/step - loss: 15.4498 - acc: 0.7082 - val_loss: 6527.0859 - val_acc: 0.7349\n",
      "Epoch 11/20\n",
      "220/220 [==============================] - 86s 381ms/step - loss: 7.5617 - acc: 0.7315 - val_loss: 2829.2075 - val_acc: 0.7349\n",
      "Epoch 12/20\n",
      "220/220 [==============================] - 86s 383ms/step - loss: 3.5233 - acc: 0.7314 - val_loss: 1430.4238 - val_acc: 0.7349\n",
      "Epoch 13/20\n",
      "220/220 [==============================] - 84s 373ms/step - loss: 5.0499 - acc: 0.7347 - val_loss: 1538.6147 - val_acc: 0.7349\n",
      "Epoch 14/20\n",
      "220/220 [==============================] - 88s 392ms/step - loss: 2.0502 - acc: 0.7346 - val_loss: 542.1743 - val_acc: 0.7349\n",
      "Epoch 15/20\n",
      "220/220 [==============================] - 84s 375ms/step - loss: 2.2557 - acc: 0.7332 - val_loss: 30.2626 - val_acc: 0.6383\n",
      "Epoch 16/20\n",
      "220/220 [==============================] - 86s 380ms/step - loss: 2.0428 - acc: 0.7348 - val_loss: 975.9116 - val_acc: 0.7349\n",
      "Epoch 17/20\n",
      "220/220 [==============================] - 87s 388ms/step - loss: 2.4718 - acc: 0.7348 - val_loss: 702.6165 - val_acc: 0.7349\n",
      "Epoch 18/20\n",
      "220/220 [==============================] - 84s 375ms/step - loss: 1.7303 - acc: 0.7347 - val_loss: 378.1780 - val_acc: 0.7349\n",
      "Epoch 19/20\n",
      "220/220 [==============================] - 84s 372ms/step - loss: 1.1671 - acc: 0.7348 - val_loss: 166.8290 - val_acc: 0.7349\n",
      "Epoch 20/20\n",
      "220/220 [==============================] - 85s 378ms/step - loss: 1.0179 - acc: 0.7331 - val_loss: 8.8710 - val_acc: 0.6505\n"
     ]
    }
   ],
   "source": [
    "\n",
    "old =0\n",
    "class myCallback(tf.keras.callbacks.Callback):\n",
    "        def on_epoch_end(self,epoch,logs={}):\n",
    "            global old\n",
    "            if(logs.get('val_acc') > old):\n",
    "                model.save('voice_model.h5',overwrite=True)\n",
    "                old = logs.get('val_acc')\n",
    "saver =myCallback()\n",
    "history = model.fit(train_dataset,\n",
    "                              epochs=20,\n",
    "                              verbose=1,\n",
    "                              validation_data=val_dataset)#,callbacks=[callbacks])"
   ]
  },
  {
   "cell_type": "code",
   "execution_count": null,
   "metadata": {},
   "outputs": [],
   "source": []
  }
 ],
 "metadata": {
  "kaggle": {
   "accelerator": "gpu",
   "dataSources": [
    {
     "datasetId": 4043460,
     "sourceId": 7029934,
     "sourceType": "datasetVersion"
    }
   ],
   "dockerImageVersionId": 30588,
   "isGpuEnabled": true,
   "isInternetEnabled": true,
   "language": "python",
   "sourceType": "notebook"
  },
  "kernelspec": {
   "display_name": "Python 3 (ipykernel)",
   "language": "python",
   "name": "python3"
  },
  "language_info": {
   "codemirror_mode": {
    "name": "ipython",
    "version": 3
   },
   "file_extension": ".py",
   "mimetype": "text/x-python",
   "name": "python",
   "nbconvert_exporter": "python",
   "pygments_lexer": "ipython3",
   "version": "3.11.5"
  }
 },
 "nbformat": 4,
 "nbformat_minor": 4
}
