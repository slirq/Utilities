{
 "cells": [
  {
   "cell_type": "code",
   "execution_count": null,
   "metadata": {
    "_cell_guid": "b1076dfc-b9ad-4769-8c92-a6c4dae69d19",
    "_uuid": "8f2839f25d086af736a60e9eeb907d3b93b6e0e5",
    "execution": {
     "iopub.execute_input": "2023-11-23T00:40:03.940110Z",
     "iopub.status.busy": "2023-11-23T00:40:03.939828Z",
     "iopub.status.idle": "2023-11-23T00:40:18.591836Z",
     "shell.execute_reply": "2023-11-23T00:40:18.590993Z",
     "shell.execute_reply.started": "2023-11-23T00:40:03.940085Z"
    }
   },
   "outputs": [],
   "source": [
    "import os\n",
    "import zipfile\n",
    "import random\n",
    "from tqdm import tqdm\n",
    "import shutil\n",
    "import tensorflow as tf\n",
    "from tensorflow.keras.optimizers import RMSprop\n",
    "from tensorflow.keras.preprocessing.image import ImageDataGenerator\n",
    "from shutil import copyfile\n",
    "from os import getcwd\n",
    "import cv2\n",
    "#import keras\n",
    "print(tf.version.VERSION)\n",
    "physical_devices = tf.config.experimental.list_physical_devices('GPU')\n",
    "if len(physical_devices) > 0:\n",
    "    tf.config.experimental.set_memory_growth(physical_devices[0], True)\n",
    "tf.test.gpu_device_name()"
   ]
  },
  {
   "cell_type": "code",
   "execution_count": null,
   "metadata": {
    "execution": {
     "iopub.execute_input": "2023-11-23T00:51:19.100390Z",
     "iopub.status.busy": "2023-11-23T00:51:19.099650Z",
     "iopub.status.idle": "2023-11-23T00:51:22.640738Z",
     "shell.execute_reply": "2023-11-23T00:51:22.639893Z",
     "shell.execute_reply.started": "2023-11-23T00:51:19.100355Z"
    }
   },
   "outputs": [],
   "source": [
    "TRAINING_DIR =\"/kaggle/input/binary-multi-retinopathy/data/multi\"\n",
    "\n",
    "train_dataset = tf.keras.utils.image_dataset_from_directory(TRAINING_DIR, validation_split=0.2, \n",
    "                                                            subset=\"training\", seed=42, \n",
    "                                                            image_size=(340,510),\n",
    "                                                            label_mode='categorical',\n",
    "                                                             batch_size=32)\n",
    "val_dataset = tf.keras.utils.image_dataset_from_directory(TRAINING_DIR, validation_split=0.2, \n",
    "                                                          subset=\"validation\", seed=42, \n",
    "                                                          image_size=(340,510),\n",
    "                                                          label_mode='categorical',\n",
    "                                                           batch_size=32)"
   ]
  },
  {
   "cell_type": "code",
   "execution_count": null,
   "metadata": {
    "execution": {
     "iopub.execute_input": "2023-11-23T00:51:22.642540Z",
     "iopub.status.busy": "2023-11-23T00:51:22.642253Z",
     "iopub.status.idle": "2023-11-23T00:51:24.934139Z",
     "shell.execute_reply": "2023-11-23T00:51:24.933167Z",
     "shell.execute_reply.started": "2023-11-23T00:51:22.642509Z"
    }
   },
   "outputs": [],
   "source": [
    "from tensorflow.keras.applications.densenet import DenseNet169\n",
    "model = tf.keras.models.Sequential([\n",
    "#     tf.keras.layers.Input(shape=(340,510, 3)),\n",
    "# tf.keras.layers.Conv2D(8, (3, 3), activation='relu'),\n",
    "#     tf.keras.layers.BatchNormalization(),\n",
    "    tf.keras.applications.resnet.ResNet50(include_top=False,input_shape=(340,510, 3),weights='imagenet'),\n",
    "    \n",
    "    \n",
    "    \n",
    "#     tf.keras.layers.MaxPooling2D(2, 2),\n",
    "#     tf.keras.layers.Conv2D(8, (3, 3), activation='relu'),\n",
    "#     tf.keras.layers.MaxPooling2D(2, 2),\n",
    "#     tf.keras.layers.Conv2D(16, (3, 3), activation='relu'),\n",
    "#     tf.keras.layers.MaxPooling2D(2, 2),\n",
    "#     tf.keras.layers.Conv2D(16, (3, 3), activation='relu'),\n",
    "#     tf.keras.layers.MaxPooling2D(2, 2),\n",
    "#     tf.keras.layers.Conv2D(64, (3, 3), activation='relu'),\n",
    "#     tf.keras.layers.MaxPooling2D(2, 2),\n",
    "#     tf.keras.layers.Conv2D(128, (3, 3), activation='relu'),\n",
    "    tf.keras.layers.MaxPooling2D(2, 2),\n",
    "#     tf.keras.layers.Conv2D(32, (3, 3), activation='relu'),\n",
    "#     tf.keras.layers.Conv2D(32, (3, 3), activation='relu'),\n",
    "#     tf.keras.layers.MaxPooling2D(2, 2),\n",
    "    tf.keras.layers.Flatten(),\n",
    "    tf.keras.layers.Dense(512, activation='relu'),\n",
    "#     tf.keras.layers.Dropout(0.5),\n",
    "#     tf.keras.layers.Dense(32, activation='relu'),\n",
    "    tf.keras.layers.Dense(4, activation='softmax')\n",
    "\n",
    "])\n",
    "\n",
    "#RMSprop(lr=0.0005)\n",
    "model.compile(optimizer='adam', loss='categorical_crossentropy', metrics=['acc'])\n",
    "model.summary()"
   ]
  },
  {
   "cell_type": "code",
   "execution_count": null,
   "metadata": {
    "execution": {
     "iopub.execute_input": "2023-11-23T00:51:24.935666Z",
     "iopub.status.busy": "2023-11-23T00:51:24.935363Z",
     "iopub.status.idle": "2023-11-23T00:54:42.934065Z",
     "shell.execute_reply": "2023-11-23T00:54:42.932730Z",
     "shell.execute_reply.started": "2023-11-23T00:51:24.935640Z"
    }
   },
   "outputs": [],
   "source": [
    "# class myCallback(tf.keras.callbacks.Callback):\n",
    "#         def on_epoch_end(self,epoch,logs={}):\n",
    "#             if(logs.get('val_acc') > 0.95):\n",
    "#                 print(\"\\n Reached 95% accuracy so cancelling training!\")\n",
    "#                 self.model.stop_training=True\n",
    "# callbacks=myCallback()\n",
    "old =0\n",
    "class myCallback(tf.keras.callbacks.Callback):\n",
    "        def on_epoch_end(self,epoch,logs={}):\n",
    "            global old\n",
    "            if(logs.get('val_acc') > old):\n",
    "                model.save('voice_model.h5',overwrite=True)\n",
    "                old = logs.get('val_acc')\n",
    "saver =myCallback()\n",
    "history = model.fit(train_dataset,\n",
    "                              epochs=20,\n",
    "                              verbose=1,\n",
    "                              validation_data=val_dataset)#,callbacks=[callbacks])"
   ]
  },
  {
   "cell_type": "code",
   "execution_count": null,
   "metadata": {},
   "outputs": [],
   "source": []
  },
  {
   "cell_type": "code",
   "execution_count": null,
   "metadata": {},
   "outputs": [],
   "source": []
  }
 ],
 "metadata": {
  "kaggle": {
   "accelerator": "gpu",
   "dataSources": [
    {
     "datasetId": 4043460,
     "sourceId": 7029934,
     "sourceType": "datasetVersion"
    }
   ],
   "dockerImageVersionId": 30588,
   "isGpuEnabled": true,
   "isInternetEnabled": true,
   "language": "python",
   "sourceType": "notebook"
  },
  "kernelspec": {
   "display_name": "Python 3 (ipykernel)",
   "language": "python",
   "name": "python3"
  },
  "language_info": {
   "codemirror_mode": {
    "name": "ipython",
    "version": 3
   },
   "file_extension": ".py",
   "mimetype": "text/x-python",
   "name": "python",
   "nbconvert_exporter": "python",
   "pygments_lexer": "ipython3",
   "version": "3.11.5"
  }
 },
 "nbformat": 4,
 "nbformat_minor": 4
}
