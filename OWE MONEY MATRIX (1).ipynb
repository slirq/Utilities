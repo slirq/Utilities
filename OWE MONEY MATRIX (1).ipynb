{
 "cells": [
  {
   "cell_type": "code",
   "execution_count": 1,
   "id": "76f69bab",
   "metadata": {},
   "outputs": [
    {
     "data": {
      "text/plain": [
       "(         Date                Description   Category     Cost Currency  \\\n",
       " 0  2024-06-11              Train Tickets  Bus/train  1559.40      CAD   \n",
       " 1  2024-06-11  Abhishek M. paid Abdullah    Payment   389.85      CAD   \n",
       " 2  2024-06-11    Darpan K. paid Abdullah    Payment   389.85      CAD   \n",
       " 3  2024-07-02     Rabea A. paid Abdullah    Payment   389.85      CAD   \n",
       " 4  2024-07-12                       Uber       Taxi    14.18      CAD   \n",
       " \n",
       "    Gurpartap  Darpan Khanna  Abdullah  Rabea Ahmed  Abhishek M (removed)  \n",
       " 0        0.0        -389.85   1169.55      -389.85               -389.85  \n",
       " 1        0.0           0.00   -389.85         0.00                389.85  \n",
       " 2        0.0         389.85   -389.85         0.00                  0.00  \n",
       " 3        0.0           0.00   -389.85       389.85                  0.00  \n",
       " 4        0.0          -4.73      9.46        -4.73                  0.00  ,\n",
       " Index(['Date', 'Description', 'Category', 'Cost', 'Currency', 'Gurpartap',\n",
       "        'Darpan Khanna', 'Abdullah', 'Rabea Ahmed', 'Abhishek M (removed)'],\n",
       "       dtype='object'))"
      ]
     },
     "execution_count": 1,
     "metadata": {},
     "output_type": "execute_result"
    }
   ],
   "source": [
    "import pandas as pd\n",
    "#PRE PROCESS DATA TO FORMAT BEFORE UPLOADING\n",
    "# Load the data from the uploaded CSV file\n",
    "file_path = './export.csv'\n",
    "data = pd.read_csv(file_path)\n",
    "\n",
    "# Display the first few rows of the dataset to understand its structure\n",
    "data.head(), data.columns\n"
   ]
  },
  {
   "cell_type": "code",
   "execution_count": 16,
   "id": "4bb7a9d5",
   "metadata": {},
   "outputs": [
    {
     "name": "stdout",
     "output_type": "stream",
     "text": [
      "             Description  Gurpartap  Darpan Khanna  Abdullah  Rabea Ahmed\n",
      "0                   Uber       0.00          -4.73      9.46        -4.73\n",
      "1              Groceries       0.00         -42.18     84.36       -42.18\n",
      "2                   Coke       6.64          -2.21     -2.21        -2.22\n",
      "3  Darpan painting lease       0.00          20.00    -20.00         0.00\n",
      "4                  Metro       0.00          -7.00      7.00         0.00\n"
     ]
    }
   ],
   "source": [
    "import pandas as pd\n",
    "\n",
    "# Load the CSV file into a DataFrame\n",
    "file_path = './export.csv'\n",
    "data = pd.read_csv(file_path)\n",
    "\n",
    "# Display the first few rows of the DataFrame\n",
    "print(data.head())\n"
   ]
  },
  {
   "cell_type": "code",
   "execution_count": 19,
   "id": "a89ed9f9",
   "metadata": {},
   "outputs": [
    {
     "data": {
      "text/html": [
       "<div>\n",
       "<style scoped>\n",
       "    .dataframe tbody tr th:only-of-type {\n",
       "        vertical-align: middle;\n",
       "    }\n",
       "\n",
       "    .dataframe tbody tr th {\n",
       "        vertical-align: top;\n",
       "    }\n",
       "\n",
       "    .dataframe thead th {\n",
       "        text-align: right;\n",
       "    }\n",
       "</style>\n",
       "<table border=\"1\" class=\"dataframe\">\n",
       "  <thead>\n",
       "    <tr style=\"text-align: right;\">\n",
       "      <th></th>\n",
       "      <th>Gurpartap</th>\n",
       "      <th>Darpan Khanna</th>\n",
       "      <th>Abdullah</th>\n",
       "      <th>Rabea Ahmed</th>\n",
       "    </tr>\n",
       "  </thead>\n",
       "  <tbody>\n",
       "    <tr>\n",
       "      <th>Gurpartap</th>\n",
       "      <td>0</td>\n",
       "      <td>0</td>\n",
       "      <td>0</td>\n",
       "      <td>0</td>\n",
       "    </tr>\n",
       "    <tr>\n",
       "      <th>Darpan Khanna</th>\n",
       "      <td>0</td>\n",
       "      <td>0</td>\n",
       "      <td>0</td>\n",
       "      <td>0</td>\n",
       "    </tr>\n",
       "    <tr>\n",
       "      <th>Abdullah</th>\n",
       "      <td>0</td>\n",
       "      <td>0</td>\n",
       "      <td>0</td>\n",
       "      <td>0</td>\n",
       "    </tr>\n",
       "    <tr>\n",
       "      <th>Rabea Ahmed</th>\n",
       "      <td>0</td>\n",
       "      <td>0</td>\n",
       "      <td>0</td>\n",
       "      <td>0</td>\n",
       "    </tr>\n",
       "  </tbody>\n",
       "</table>\n",
       "</div>"
      ],
      "text/plain": [
       "               Gurpartap  Darpan Khanna  Abdullah  Rabea Ahmed\n",
       "Gurpartap              0              0         0            0\n",
       "Darpan Khanna          0              0         0            0\n",
       "Abdullah               0              0         0            0\n",
       "Rabea Ahmed            0              0         0            0"
      ]
     },
     "execution_count": 19,
     "metadata": {},
     "output_type": "execute_result"
    }
   ],
   "source": [
    "people = data.columns[1:]\n",
    "balances = pd.DataFrame(0, index=people, columns=people)\n",
    "people\n",
    "balances"
   ]
  },
  {
   "cell_type": "code",
   "execution_count": 26,
   "id": "86fe199d",
   "metadata": {},
   "outputs": [
    {
     "data": {
      "text/html": [
       "<div>\n",
       "<style scoped>\n",
       "    .dataframe tbody tr th:only-of-type {\n",
       "        vertical-align: middle;\n",
       "    }\n",
       "\n",
       "    .dataframe tbody tr th {\n",
       "        vertical-align: top;\n",
       "    }\n",
       "\n",
       "    .dataframe thead th {\n",
       "        text-align: right;\n",
       "    }\n",
       "</style>\n",
       "<table border=\"1\" class=\"dataframe\">\n",
       "  <thead>\n",
       "    <tr style=\"text-align: right;\">\n",
       "      <th></th>\n",
       "      <th>Gurpartap</th>\n",
       "      <th>Darpan Khanna</th>\n",
       "      <th>Abdullah</th>\n",
       "      <th>Rabea Ahmed</th>\n",
       "      <th>Total Owed</th>\n",
       "    </tr>\n",
       "  </thead>\n",
       "  <tbody>\n",
       "    <tr>\n",
       "      <th>Gurpartap</th>\n",
       "      <td></td>\n",
       "      <td></td>\n",
       "      <td></td>\n",
       "      <td></td>\n",
       "      <td>0.00</td>\n",
       "    </tr>\n",
       "    <tr>\n",
       "      <th>Darpan Khanna</th>\n",
       "      <td>Darpan Khanna owes Gurpartap $61.62</td>\n",
       "      <td></td>\n",
       "      <td>Darpan Khanna owes Abdullah $95.73</td>\n",
       "      <td></td>\n",
       "      <td>157.35</td>\n",
       "    </tr>\n",
       "    <tr>\n",
       "      <th>Abdullah</th>\n",
       "      <td>Abdullah owes Gurpartap $48.66</td>\n",
       "      <td></td>\n",
       "      <td></td>\n",
       "      <td></td>\n",
       "      <td>48.66</td>\n",
       "    </tr>\n",
       "    <tr>\n",
       "      <th>Rabea Ahmed</th>\n",
       "      <td>Rabea Ahmed owes Gurpartap $127.34</td>\n",
       "      <td>Rabea Ahmed owes Darpan Khanna $3.95</td>\n",
       "      <td>Rabea Ahmed owes Abdullah $61.05</td>\n",
       "      <td></td>\n",
       "      <td>192.34</td>\n",
       "    </tr>\n",
       "    <tr>\n",
       "      <th>Total Owed To</th>\n",
       "      <td>237.62</td>\n",
       "      <td>3.95</td>\n",
       "      <td>156.78</td>\n",
       "      <td>0.0</td>\n",
       "      <td>NaN</td>\n",
       "    </tr>\n",
       "  </tbody>\n",
       "</table>\n",
       "</div>"
      ],
      "text/plain": [
       "                                         Gurpartap  \\\n",
       "Gurpartap                                            \n",
       "Darpan Khanna  Darpan Khanna owes Gurpartap $61.62   \n",
       "Abdullah            Abdullah owes Gurpartap $48.66   \n",
       "Rabea Ahmed     Rabea Ahmed owes Gurpartap $127.34   \n",
       "Total Owed To                               237.62   \n",
       "\n",
       "                                      Darpan Khanna  \\\n",
       "Gurpartap                                             \n",
       "Darpan Khanna                                         \n",
       "Abdullah                                              \n",
       "Rabea Ahmed    Rabea Ahmed owes Darpan Khanna $3.95   \n",
       "Total Owed To                                  3.95   \n",
       "\n",
       "                                         Abdullah Rabea Ahmed  Total Owed  \n",
       "Gurpartap                                                            0.00  \n",
       "Darpan Khanna  Darpan Khanna owes Abdullah $95.73                  157.35  \n",
       "Abdullah                                                            48.66  \n",
       "Rabea Ahmed      Rabea Ahmed owes Abdullah $61.05                  192.34  \n",
       "Total Owed To                              156.78         0.0         NaN  "
      ]
     },
     "execution_count": 26,
     "metadata": {},
     "output_type": "execute_result"
    }
   ],
   "source": [
    "# Correcting the balances calculation logic\n",
    "balances = pd.DataFrame(0, index=people, columns=people)\n",
    "\n",
    "# Exclude non-numeric data for safe operations\n",
    "numeric_data = data.select_dtypes(include=[np.number])\n",
    "\n",
    "for index, row in numeric_data.iterrows():\n",
    "    payers = row[row > 0]  # Individuals who paid in this transaction\n",
    "    payees = row[row < 0]  # Individuals who owe in this transaction\n",
    "    total_paid = payers.sum()  # Total paid by payers in this transaction\n",
    "\n",
    "    if not payees.empty and total_paid > 0:\n",
    "        for payer in payers.index:\n",
    "            for payee in payees.index:\n",
    "                # Calculate the amount each payee owes to the payer based on their share of the total owed\n",
    "                owe_amount = -payees[payee] * (payers[payer] / total_paid)\n",
    "                balances.loc[payee, payer] += owe_amount\n",
    "\n",
    "# Net off the balances between each pair\n",
    "for person1 in people:\n",
    "    for person2 in people:\n",
    "        if person1 != person2:\n",
    "            net_amount = balances.loc[person1, person2] - balances.loc[person2, person1]\n",
    "            if net_amount > 0:\n",
    "                balances.loc[person1, person2] = net_amount\n",
    "                balances.loc[person2, person1] = 0\n",
    "            else:\n",
    "                balances.loc[person1, person2] = 0\n",
    "                balances.loc[person2, person1] = -net_amount\n",
    "\n",
    "# Convert balances to a descriptive matrix\n",
    "description_matrix = balances.copy()\n",
    "for person1 in people:\n",
    "    for person2 in people:\n",
    "        amount = description_matrix.loc[person1, person2]\n",
    "        if amount > 0:\n",
    "            description_matrix.loc[person1, person2] = f\"{person1} owes {person2} ${amount:.2f}\"\n",
    "        else:\n",
    "            description_matrix.loc[person1, person2] = \"\"\n",
    "\n",
    "# Calculate total owed by each person (sum across rows)\n",
    "description_matrix['Total Owed'] = description_matrix[people].applymap(lambda x: float(x.split('$')[-1]) if x else 0).sum(axis=1)\n",
    "\n",
    "# Calculate total owed to each person (sum across columns)\n",
    "description_matrix.loc['Total Owed To'] = description_matrix[people].applymap(lambda x: float(x.split('$')[-1]) if x else 0).sum()\n",
    "\n",
    "description_matrix\n"
   ]
  },
  {
   "cell_type": "code",
   "execution_count": 11,
   "id": "eb8eb84f",
   "metadata": {},
   "outputs": [
    {
     "data": {
      "text/plain": [
       "Gurpartap               475.24\n",
       "Darpan Khanna          -306.80\n",
       "Abdullah                216.24\n",
       "Rabea Ahmed            -384.68\n",
       "Abhishek M (removed)      0.00\n",
       "dtype: float64"
      ]
     },
     "execution_count": 11,
     "metadata": {},
     "output_type": "execute_result"
    }
   ],
   "source": [
    "net_balances"
   ]
  },
  {
   "cell_type": "code",
   "execution_count": 27,
   "id": "9a7bff8c",
   "metadata": {},
   "outputs": [
    {
     "data": {
      "text/plain": [
       "778.81"
      ]
     },
     "execution_count": 27,
     "metadata": {},
     "output_type": "execute_result"
    }
   ],
   "source": [
    "# Calculate the total expense of the trip\n",
    "total_expense = numeric_data[people].apply(lambda x: x[x > 0]).sum().sum()\n",
    "total_expense\n"
   ]
  }
 ],
 "metadata": {
  "kernelspec": {
   "display_name": "Python 3 (ipykernel)",
   "language": "python",
   "name": "python3"
  },
  "language_info": {
   "codemirror_mode": {
    "name": "ipython",
    "version": 3
   },
   "file_extension": ".py",
   "mimetype": "text/x-python",
   "name": "python",
   "nbconvert_exporter": "python",
   "pygments_lexer": "ipython3",
   "version": "3.11.5"
  }
 },
 "nbformat": 4,
 "nbformat_minor": 5
}
